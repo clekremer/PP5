{
 "cells": [
  {
   "cell_type": "markdown",
   "metadata": {},
   "source": [
    "## Data Collection"
   ]
  },
  {
   "cell_type": "markdown",
   "metadata": {},
   "source": [
    "- Import\n",
    "- Set working directory\n",
    "- Get data from Kaggle"
   ]
  },
  {
   "cell_type": "markdown",
   "metadata": {},
   "source": [
    "# Import packages"
   ]
  },
  {
   "cell_type": "code",
   "execution_count": 1,
   "metadata": {},
   "outputs": [
    {
     "name": "stdout",
     "output_type": "stream",
     "text": [
      "Requirement already satisfied: tensorflow-cpu==2.10.1 in /workspace/.pip-modules/lib/python3.8/site-packages (from -r /workspace/PP5/requirements.txt (line 2)) (2.10.1)\n",
      "Requirement already satisfied: scikit-learn==1.0.2 in /workspace/.pip-modules/lib/python3.8/site-packages (from -r /workspace/PP5/requirements.txt (line 3)) (1.0.2)\n",
      "Requirement already satisfied: numpy==1.24.4 in /workspace/.pip-modules/lib/python3.8/site-packages (from -r /workspace/PP5/requirements.txt (line 6)) (1.24.4)\n",
      "Requirement already satisfied: pandas==1.3.5 in /workspace/.pip-modules/lib/python3.8/site-packages (from -r /workspace/PP5/requirements.txt (line 7)) (1.3.5)\n",
      "Requirement already satisfied: scipy==1.10.1 in /workspace/.pip-modules/lib/python3.8/site-packages (from -r /workspace/PP5/requirements.txt (line 8)) (1.10.1)\n",
      "Requirement already satisfied: matplotlib==3.4.3 in /workspace/.pip-modules/lib/python3.8/site-packages (from -r /workspace/PP5/requirements.txt (line 11)) (3.4.3)\n",
      "Requirement already satisfied: seaborn==0.11.2 in /workspace/.pip-modules/lib/python3.8/site-packages (from -r /workspace/PP5/requirements.txt (line 12)) (0.11.2)\n",
      "Requirement already satisfied: plotly==5.3.1 in /workspace/.pip-modules/lib/python3.8/site-packages (from -r /workspace/PP5/requirements.txt (line 13)) (5.3.1)\n",
      "Requirement already satisfied: streamlit==1.10.0 in /workspace/.pip-modules/lib/python3.8/site-packages (from -r /workspace/PP5/requirements.txt (line 16)) (1.10.0)\n",
      "Requirement already satisfied: altair==4.1.0 in /workspace/.pip-modules/lib/python3.8/site-packages (from -r /workspace/PP5/requirements.txt (line 17)) (4.1.0)\n",
      "Requirement already satisfied: opencv-contrib-python-headless==4.5.3.56 in /workspace/.pip-modules/lib/python3.8/site-packages (from -r /workspace/PP5/requirements.txt (line 20)) (4.5.3.56)\n",
      "Requirement already satisfied: typing-extensions==4.5.0 in /workspace/.pip-modules/lib/python3.8/site-packages (from -r /workspace/PP5/requirements.txt (line 23)) (4.5.0)\n",
      "Requirement already satisfied: gunicorn==20.1.0 in /workspace/.pip-modules/lib/python3.8/site-packages (from -r /workspace/PP5/requirements.txt (line 26)) (20.1.0)\n",
      "Requirement already satisfied: absl-py>=1.0.0 in /workspace/.pip-modules/lib/python3.8/site-packages (from tensorflow-cpu==2.10.1->-r /workspace/PP5/requirements.txt (line 2)) (2.1.0)\n",
      "Requirement already satisfied: astunparse>=1.6.0 in /workspace/.pip-modules/lib/python3.8/site-packages (from tensorflow-cpu==2.10.1->-r /workspace/PP5/requirements.txt (line 2)) (1.6.3)\n",
      "Requirement already satisfied: flatbuffers>=2.0 in /workspace/.pip-modules/lib/python3.8/site-packages (from tensorflow-cpu==2.10.1->-r /workspace/PP5/requirements.txt (line 2)) (24.12.23)\n",
      "Requirement already satisfied: gast<=0.4.0,>=0.2.1 in /workspace/.pip-modules/lib/python3.8/site-packages (from tensorflow-cpu==2.10.1->-r /workspace/PP5/requirements.txt (line 2)) (0.4.0)\n",
      "Requirement already satisfied: google-pasta>=0.1.1 in /workspace/.pip-modules/lib/python3.8/site-packages (from tensorflow-cpu==2.10.1->-r /workspace/PP5/requirements.txt (line 2)) (0.2.0)\n",
      "Requirement already satisfied: grpcio<2.0,>=1.24.3 in /workspace/.pip-modules/lib/python3.8/site-packages (from tensorflow-cpu==2.10.1->-r /workspace/PP5/requirements.txt (line 2)) (1.69.0)\n",
      "Requirement already satisfied: h5py>=2.9.0 in /workspace/.pip-modules/lib/python3.8/site-packages (from tensorflow-cpu==2.10.1->-r /workspace/PP5/requirements.txt (line 2)) (3.1.0)\n",
      "Requirement already satisfied: keras<2.11,>=2.10.0 in /workspace/.pip-modules/lib/python3.8/site-packages (from tensorflow-cpu==2.10.1->-r /workspace/PP5/requirements.txt (line 2)) (2.10.0)\n",
      "Requirement already satisfied: keras-preprocessing>=1.1.1 in /workspace/.pip-modules/lib/python3.8/site-packages (from tensorflow-cpu==2.10.1->-r /workspace/PP5/requirements.txt (line 2)) (1.1.2)\n",
      "Requirement already satisfied: libclang>=13.0.0 in /workspace/.pip-modules/lib/python3.8/site-packages (from tensorflow-cpu==2.10.1->-r /workspace/PP5/requirements.txt (line 2)) (18.1.1)\n",
      "Requirement already satisfied: opt-einsum>=2.3.2 in /workspace/.pip-modules/lib/python3.8/site-packages (from tensorflow-cpu==2.10.1->-r /workspace/PP5/requirements.txt (line 2)) (3.3.0)\n",
      "Requirement already satisfied: packaging in /home/gitpod/.pyenv/versions/3.8.18/lib/python3.8/site-packages (from tensorflow-cpu==2.10.1->-r /workspace/PP5/requirements.txt (line 2)) (24.1)\n",
      "Requirement already satisfied: protobuf<3.20,>=3.9.2 in /workspace/.pip-modules/lib/python3.8/site-packages (from tensorflow-cpu==2.10.1->-r /workspace/PP5/requirements.txt (line 2)) (3.19.6)\n",
      "Requirement already satisfied: setuptools in /home/gitpod/.pyenv/versions/3.8.18/lib/python3.8/site-packages (from tensorflow-cpu==2.10.1->-r /workspace/PP5/requirements.txt (line 2)) (75.3.0)\n",
      "Requirement already satisfied: six>=1.12.0 in /workspace/.pip-modules/lib/python3.8/site-packages (from tensorflow-cpu==2.10.1->-r /workspace/PP5/requirements.txt (line 2)) (1.15.0)\n",
      "Requirement already satisfied: tensorboard<2.11,>=2.10 in /workspace/.pip-modules/lib/python3.8/site-packages (from tensorflow-cpu==2.10.1->-r /workspace/PP5/requirements.txt (line 2)) (2.10.1)\n",
      "Requirement already satisfied: tensorflow-io-gcs-filesystem>=0.23.1 in /workspace/.pip-modules/lib/python3.8/site-packages (from tensorflow-cpu==2.10.1->-r /workspace/PP5/requirements.txt (line 2)) (0.34.0)\n",
      "Requirement already satisfied: tensorflow-estimator<2.11,>=2.10.0 in /workspace/.pip-modules/lib/python3.8/site-packages (from tensorflow-cpu==2.10.1->-r /workspace/PP5/requirements.txt (line 2)) (2.10.0)\n",
      "Requirement already satisfied: termcolor>=1.1.0 in /workspace/.pip-modules/lib/python3.8/site-packages (from tensorflow-cpu==2.10.1->-r /workspace/PP5/requirements.txt (line 2)) (1.1.0)\n",
      "Requirement already satisfied: wrapt>=1.11.0 in /workspace/.pip-modules/lib/python3.8/site-packages (from tensorflow-cpu==2.10.1->-r /workspace/PP5/requirements.txt (line 2)) (1.12.1)\n",
      "Requirement already satisfied: joblib>=0.11 in /workspace/.pip-modules/lib/python3.8/site-packages (from scikit-learn==1.0.2->-r /workspace/PP5/requirements.txt (line 3)) (1.4.2)\n",
      "Requirement already satisfied: threadpoolctl>=2.0.0 in /workspace/.pip-modules/lib/python3.8/site-packages (from scikit-learn==1.0.2->-r /workspace/PP5/requirements.txt (line 3)) (3.5.0)\n",
      "Requirement already satisfied: python-dateutil>=2.7.3 in /home/gitpod/.pyenv/versions/3.8.18/lib/python3.8/site-packages (from pandas==1.3.5->-r /workspace/PP5/requirements.txt (line 7)) (2.9.0.post0)\n",
      "Requirement already satisfied: pytz>=2017.3 in /home/gitpod/.pyenv/versions/3.8.18/lib/python3.8/site-packages (from pandas==1.3.5->-r /workspace/PP5/requirements.txt (line 7)) (2024.2)\n",
      "Requirement already satisfied: cycler>=0.10 in /workspace/.pip-modules/lib/python3.8/site-packages (from matplotlib==3.4.3->-r /workspace/PP5/requirements.txt (line 11)) (0.12.1)\n",
      "Requirement already satisfied: kiwisolver>=1.0.1 in /workspace/.pip-modules/lib/python3.8/site-packages (from matplotlib==3.4.3->-r /workspace/PP5/requirements.txt (line 11)) (1.4.7)\n",
      "Requirement already satisfied: pillow>=6.2.0 in /workspace/.pip-modules/lib/python3.8/site-packages (from matplotlib==3.4.3->-r /workspace/PP5/requirements.txt (line 11)) (10.4.0)\n",
      "Requirement already satisfied: pyparsing>=2.2.1 in /workspace/.pip-modules/lib/python3.8/site-packages (from matplotlib==3.4.3->-r /workspace/PP5/requirements.txt (line 11)) (3.1.4)\n",
      "Requirement already satisfied: tenacity>=6.2.0 in /workspace/.pip-modules/lib/python3.8/site-packages (from plotly==5.3.1->-r /workspace/PP5/requirements.txt (line 13)) (9.0.0)\n",
      "Requirement already satisfied: attrs in /home/gitpod/.pyenv/versions/3.8.18/lib/python3.8/site-packages (from streamlit==1.10.0->-r /workspace/PP5/requirements.txt (line 16)) (24.2.0)\n",
      "Requirement already satisfied: blinker in /workspace/.pip-modules/lib/python3.8/site-packages (from streamlit==1.10.0->-r /workspace/PP5/requirements.txt (line 16)) (1.8.2)\n",
      "Requirement already satisfied: cachetools>=4.0 in /workspace/.pip-modules/lib/python3.8/site-packages (from streamlit==1.10.0->-r /workspace/PP5/requirements.txt (line 16)) (5.5.0)\n",
      "Requirement already satisfied: click>=7.0 in /workspace/.pip-modules/lib/python3.8/site-packages (from streamlit==1.10.0->-r /workspace/PP5/requirements.txt (line 16)) (8.1.8)\n",
      "Requirement already satisfied: importlib-metadata>=1.4 in /home/gitpod/.pyenv/versions/3.8.18/lib/python3.8/site-packages (from streamlit==1.10.0->-r /workspace/PP5/requirements.txt (line 16)) (8.5.0)\n",
      "Requirement already satisfied: pyarrow in /workspace/.pip-modules/lib/python3.8/site-packages (from streamlit==1.10.0->-r /workspace/PP5/requirements.txt (line 16)) (17.0.0)\n",
      "Requirement already satisfied: pydeck>=0.1.dev5 in /workspace/.pip-modules/lib/python3.8/site-packages (from streamlit==1.10.0->-r /workspace/PP5/requirements.txt (line 16)) (0.9.1)\n",
      "Requirement already satisfied: pympler>=0.9 in /workspace/.pip-modules/lib/python3.8/site-packages (from streamlit==1.10.0->-r /workspace/PP5/requirements.txt (line 16)) (1.1)\n",
      "Requirement already satisfied: requests in /home/gitpod/.pyenv/versions/3.8.18/lib/python3.8/site-packages (from streamlit==1.10.0->-r /workspace/PP5/requirements.txt (line 16)) (2.32.3)\n",
      "Requirement already satisfied: toml in /workspace/.pip-modules/lib/python3.8/site-packages (from streamlit==1.10.0->-r /workspace/PP5/requirements.txt (line 16)) (0.10.2)\n",
      "Requirement already satisfied: tornado>=5.0 in /home/gitpod/.pyenv/versions/3.8.18/lib/python3.8/site-packages (from streamlit==1.10.0->-r /workspace/PP5/requirements.txt (line 16)) (6.4.1)\n",
      "Requirement already satisfied: tzlocal in /workspace/.pip-modules/lib/python3.8/site-packages (from streamlit==1.10.0->-r /workspace/PP5/requirements.txt (line 16)) (5.2)\n",
      "Requirement already satisfied: validators in /workspace/.pip-modules/lib/python3.8/site-packages (from streamlit==1.10.0->-r /workspace/PP5/requirements.txt (line 16)) (0.34.0)\n",
      "Requirement already satisfied: gitpython!=3.1.19 in /workspace/.pip-modules/lib/python3.8/site-packages (from streamlit==1.10.0->-r /workspace/PP5/requirements.txt (line 16)) (3.1.44)\n",
      "Requirement already satisfied: semver in /workspace/.pip-modules/lib/python3.8/site-packages (from streamlit==1.10.0->-r /workspace/PP5/requirements.txt (line 16)) (3.0.2)\n",
      "Requirement already satisfied: rich in /home/gitpod/.pyenv/versions/3.8.18/lib/python3.8/site-packages (from streamlit==1.10.0->-r /workspace/PP5/requirements.txt (line 16)) (13.9.4)\n",
      "Requirement already satisfied: watchdog in /workspace/.pip-modules/lib/python3.8/site-packages (from streamlit==1.10.0->-r /workspace/PP5/requirements.txt (line 16)) (4.0.2)\n",
      "Requirement already satisfied: entrypoints in /workspace/.pip-modules/lib/python3.8/site-packages (from altair==4.1.0->-r /workspace/PP5/requirements.txt (line 17)) (0.4)\n",
      "Requirement already satisfied: jinja2 in /home/gitpod/.pyenv/versions/3.8.18/lib/python3.8/site-packages (from altair==4.1.0->-r /workspace/PP5/requirements.txt (line 17)) (3.1.4)\n",
      "Requirement already satisfied: jsonschema in /home/gitpod/.pyenv/versions/3.8.18/lib/python3.8/site-packages (from altair==4.1.0->-r /workspace/PP5/requirements.txt (line 17)) (4.23.0)\n",
      "Requirement already satisfied: toolz in /workspace/.pip-modules/lib/python3.8/site-packages (from altair==4.1.0->-r /workspace/PP5/requirements.txt (line 17)) (1.0.0)\n",
      "Requirement already satisfied: wheel<1.0,>=0.23.0 in /home/gitpod/.pyenv/versions/3.8.18/lib/python3.8/site-packages (from astunparse>=1.6.0->tensorflow-cpu==2.10.1->-r /workspace/PP5/requirements.txt (line 2)) (0.44.0)\n",
      "Requirement already satisfied: gitdb<5,>=4.0.1 in /workspace/.pip-modules/lib/python3.8/site-packages (from gitpython!=3.1.19->streamlit==1.10.0->-r /workspace/PP5/requirements.txt (line 16)) (4.0.12)\n",
      "Requirement already satisfied: zipp>=3.20 in /home/gitpod/.pyenv/versions/3.8.18/lib/python3.8/site-packages (from importlib-metadata>=1.4->streamlit==1.10.0->-r /workspace/PP5/requirements.txt (line 16)) (3.20.2)\n",
      "Requirement already satisfied: MarkupSafe>=2.0 in /home/gitpod/.pyenv/versions/3.8.18/lib/python3.8/site-packages (from jinja2->altair==4.1.0->-r /workspace/PP5/requirements.txt (line 17)) (2.1.5)\n",
      "Requirement already satisfied: google-auth<3,>=1.6.3 in /workspace/.pip-modules/lib/python3.8/site-packages (from tensorboard<2.11,>=2.10->tensorflow-cpu==2.10.1->-r /workspace/PP5/requirements.txt (line 2)) (2.37.0)\n",
      "Requirement already satisfied: google-auth-oauthlib<0.5,>=0.4.1 in /workspace/.pip-modules/lib/python3.8/site-packages (from tensorboard<2.11,>=2.10->tensorflow-cpu==2.10.1->-r /workspace/PP5/requirements.txt (line 2)) (0.4.6)\n",
      "Requirement already satisfied: markdown>=2.6.8 in /workspace/.pip-modules/lib/python3.8/site-packages (from tensorboard<2.11,>=2.10->tensorflow-cpu==2.10.1->-r /workspace/PP5/requirements.txt (line 2)) (3.7)\n",
      "Requirement already satisfied: tensorboard-data-server<0.7.0,>=0.6.0 in /workspace/.pip-modules/lib/python3.8/site-packages (from tensorboard<2.11,>=2.10->tensorflow-cpu==2.10.1->-r /workspace/PP5/requirements.txt (line 2)) (0.6.1)\n",
      "Requirement already satisfied: tensorboard-plugin-wit>=1.6.0 in /workspace/.pip-modules/lib/python3.8/site-packages (from tensorboard<2.11,>=2.10->tensorflow-cpu==2.10.1->-r /workspace/PP5/requirements.txt (line 2)) (1.8.1)\n",
      "Requirement already satisfied: werkzeug>=1.0.1 in /workspace/.pip-modules/lib/python3.8/site-packages (from tensorboard<2.11,>=2.10->tensorflow-cpu==2.10.1->-r /workspace/PP5/requirements.txt (line 2)) (3.0.6)\n",
      "Requirement already satisfied: charset-normalizer<4,>=2 in /home/gitpod/.pyenv/versions/3.8.18/lib/python3.8/site-packages (from requests->streamlit==1.10.0->-r /workspace/PP5/requirements.txt (line 16)) (3.4.0)\n",
      "Requirement already satisfied: idna<4,>=2.5 in /home/gitpod/.pyenv/versions/3.8.18/lib/python3.8/site-packages (from requests->streamlit==1.10.0->-r /workspace/PP5/requirements.txt (line 16)) (3.10)\n",
      "Requirement already satisfied: urllib3<3,>=1.21.1 in /home/gitpod/.pyenv/versions/3.8.18/lib/python3.8/site-packages (from requests->streamlit==1.10.0->-r /workspace/PP5/requirements.txt (line 16)) (2.2.3)\n",
      "Requirement already satisfied: certifi>=2017.4.17 in /home/gitpod/.pyenv/versions/3.8.18/lib/python3.8/site-packages (from requests->streamlit==1.10.0->-r /workspace/PP5/requirements.txt (line 16)) (2024.8.30)\n",
      "Requirement already satisfied: importlib-resources>=1.4.0 in /home/gitpod/.pyenv/versions/3.8.18/lib/python3.8/site-packages (from jsonschema->altair==4.1.0->-r /workspace/PP5/requirements.txt (line 17)) (6.4.5)\n",
      "Requirement already satisfied: jsonschema-specifications>=2023.03.6 in /home/gitpod/.pyenv/versions/3.8.18/lib/python3.8/site-packages (from jsonschema->altair==4.1.0->-r /workspace/PP5/requirements.txt (line 17)) (2023.12.1)\n",
      "Requirement already satisfied: pkgutil-resolve-name>=1.3.10 in /home/gitpod/.pyenv/versions/3.8.18/lib/python3.8/site-packages (from jsonschema->altair==4.1.0->-r /workspace/PP5/requirements.txt (line 17)) (1.3.10)\n",
      "Requirement already satisfied: referencing>=0.28.4 in /home/gitpod/.pyenv/versions/3.8.18/lib/python3.8/site-packages (from jsonschema->altair==4.1.0->-r /workspace/PP5/requirements.txt (line 17)) (0.35.1)\n",
      "Requirement already satisfied: rpds-py>=0.7.1 in /home/gitpod/.pyenv/versions/3.8.18/lib/python3.8/site-packages (from jsonschema->altair==4.1.0->-r /workspace/PP5/requirements.txt (line 17)) (0.20.1)\n",
      "Requirement already satisfied: markdown-it-py>=2.2.0 in /home/gitpod/.pyenv/versions/3.8.18/lib/python3.8/site-packages (from rich->streamlit==1.10.0->-r /workspace/PP5/requirements.txt (line 16)) (3.0.0)\n",
      "Requirement already satisfied: pygments<3.0.0,>=2.13.0 in /home/gitpod/.pyenv/versions/3.8.18/lib/python3.8/site-packages (from rich->streamlit==1.10.0->-r /workspace/PP5/requirements.txt (line 16)) (2.18.0)\n",
      "Requirement already satisfied: backports.zoneinfo in /workspace/.pip-modules/lib/python3.8/site-packages (from tzlocal->streamlit==1.10.0->-r /workspace/PP5/requirements.txt (line 16)) (0.2.1)\n",
      "Requirement already satisfied: smmap<6,>=3.0.1 in /workspace/.pip-modules/lib/python3.8/site-packages (from gitdb<5,>=4.0.1->gitpython!=3.1.19->streamlit==1.10.0->-r /workspace/PP5/requirements.txt (line 16)) (5.0.2)\n",
      "Requirement already satisfied: pyasn1-modules>=0.2.1 in /workspace/.pip-modules/lib/python3.8/site-packages (from google-auth<3,>=1.6.3->tensorboard<2.11,>=2.10->tensorflow-cpu==2.10.1->-r /workspace/PP5/requirements.txt (line 2)) (0.4.1)\n",
      "Requirement already satisfied: rsa<5,>=3.1.4 in /workspace/.pip-modules/lib/python3.8/site-packages (from google-auth<3,>=1.6.3->tensorboard<2.11,>=2.10->tensorflow-cpu==2.10.1->-r /workspace/PP5/requirements.txt (line 2)) (4.9)\n",
      "Requirement already satisfied: requests-oauthlib>=0.7.0 in /workspace/.pip-modules/lib/python3.8/site-packages (from google-auth-oauthlib<0.5,>=0.4.1->tensorboard<2.11,>=2.10->tensorflow-cpu==2.10.1->-r /workspace/PP5/requirements.txt (line 2)) (2.0.0)\n",
      "Requirement already satisfied: mdurl~=0.1 in /home/gitpod/.pyenv/versions/3.8.18/lib/python3.8/site-packages (from markdown-it-py>=2.2.0->rich->streamlit==1.10.0->-r /workspace/PP5/requirements.txt (line 16)) (0.1.2)\n",
      "Requirement already satisfied: pyasn1<0.7.0,>=0.4.6 in /workspace/.pip-modules/lib/python3.8/site-packages (from pyasn1-modules>=0.2.1->google-auth<3,>=1.6.3->tensorboard<2.11,>=2.10->tensorflow-cpu==2.10.1->-r /workspace/PP5/requirements.txt (line 2)) (0.6.1)\n",
      "Requirement already satisfied: oauthlib>=3.0.0 in /workspace/.pip-modules/lib/python3.8/site-packages (from requests-oauthlib>=0.7.0->google-auth-oauthlib<0.5,>=0.4.1->tensorboard<2.11,>=2.10->tensorflow-cpu==2.10.1->-r /workspace/PP5/requirements.txt (line 2)) (3.2.2)\n"
     ]
    }
   ],
   "source": [
    "! pip install -r /workspace/PP5/requirements.txt"
   ]
  },
  {
   "cell_type": "code",
   "execution_count": 2,
   "metadata": {},
   "outputs": [],
   "source": [
    "import numpy\n",
    "import os"
   ]
  },
  {
   "cell_type": "markdown",
   "metadata": {},
   "source": [
    "# Change working directory"
   ]
  },
  {
   "cell_type": "code",
   "execution_count": 22,
   "metadata": {},
   "outputs": [
    {
     "data": {
      "text/plain": [
       "'/workspace/PP5'"
      ]
     },
     "execution_count": 22,
     "metadata": {},
     "output_type": "execute_result"
    }
   ],
   "source": [
    "current_dir = os.getcwd()\n",
    "current_dir"
   ]
  },
  {
   "cell_type": "code",
   "execution_count": 3,
   "metadata": {},
   "outputs": [
    {
     "name": "stdout",
     "output_type": "stream",
     "text": [
      "You set a new current directory\n"
     ]
    }
   ],
   "source": [
    "os.chdir('/workspace/PP5')\n",
    "print(\"You set a new current directory\")"
   ]
  },
  {
   "cell_type": "code",
   "execution_count": 4,
   "metadata": {},
   "outputs": [
    {
     "data": {
      "text/plain": [
       "'/workspace/PP5'"
      ]
     },
     "execution_count": 4,
     "metadata": {},
     "output_type": "execute_result"
    }
   ],
   "source": [
    "current_dir = os.getcwd()\n",
    "current_dir"
   ]
  },
  {
   "cell_type": "markdown",
   "metadata": {},
   "source": [
    "# Install Kaggle"
   ]
  },
  {
   "cell_type": "code",
   "execution_count": 5,
   "metadata": {},
   "outputs": [
    {
     "name": "stdout",
     "output_type": "stream",
     "text": [
      "Collecting kaggle\n",
      "  Downloading kaggle-1.6.17.tar.gz (82 kB)\n",
      "  Preparing metadata (setup.py) ... \u001b[?25ldone\n",
      "\u001b[?25hRequirement already satisfied: six>=1.10 in /workspace/.pip-modules/lib/python3.8/site-packages (from kaggle) (1.15.0)\n",
      "Requirement already satisfied: certifi>=2023.7.22 in /home/gitpod/.pyenv/versions/3.8.18/lib/python3.8/site-packages (from kaggle) (2024.8.30)\n",
      "Requirement already satisfied: python-dateutil in /home/gitpod/.pyenv/versions/3.8.18/lib/python3.8/site-packages (from kaggle) (2.9.0.post0)\n",
      "Requirement already satisfied: requests in /home/gitpod/.pyenv/versions/3.8.18/lib/python3.8/site-packages (from kaggle) (2.32.3)\n",
      "Requirement already satisfied: tqdm in /workspace/.pip-modules/lib/python3.8/site-packages (from kaggle) (4.67.1)\n",
      "Requirement already satisfied: python-slugify in /workspace/.pip-modules/lib/python3.8/site-packages (from kaggle) (8.0.4)\n",
      "Requirement already satisfied: urllib3 in /home/gitpod/.pyenv/versions/3.8.18/lib/python3.8/site-packages (from kaggle) (2.2.3)\n",
      "Requirement already satisfied: bleach in /home/gitpod/.pyenv/versions/3.8.18/lib/python3.8/site-packages (from kaggle) (6.1.0)\n",
      "Requirement already satisfied: webencodings in /home/gitpod/.pyenv/versions/3.8.18/lib/python3.8/site-packages (from bleach->kaggle) (0.5.1)\n",
      "Requirement already satisfied: text-unidecode>=1.3 in /workspace/.pip-modules/lib/python3.8/site-packages (from python-slugify->kaggle) (1.3)\n",
      "Requirement already satisfied: charset-normalizer<4,>=2 in /home/gitpod/.pyenv/versions/3.8.18/lib/python3.8/site-packages (from requests->kaggle) (3.4.0)\n",
      "Requirement already satisfied: idna<4,>=2.5 in /home/gitpod/.pyenv/versions/3.8.18/lib/python3.8/site-packages (from requests->kaggle) (3.10)\n",
      "Building wheels for collected packages: kaggle\n",
      "  Building wheel for kaggle (setup.py) ... \u001b[?25ldone\n",
      "\u001b[?25h  Created wheel for kaggle: filename=kaggle-1.6.17-py3-none-any.whl size=105787 sha256=dddcd2beb5ba644b571d2924ce01cf6a0868db02047c17a68ffd5334e03db671\n",
      "  Stored in directory: /home/gitpod/.cache/pip/wheels/a5/6f/7b/837915771e94e181fa3052822926444e34f725ca38e70be77e\n",
      "Successfully built kaggle\n",
      "Installing collected packages: kaggle\n",
      "Successfully installed kaggle-1.6.17\n",
      "Note: you may need to restart the kernel to use updated packages.\n"
     ]
    }
   ],
   "source": [
    "pip install kaggle"
   ]
  },
  {
   "cell_type": "markdown",
   "metadata": {},
   "source": [
    "Run the cell below **to change the Kaggle configuration directory to the current working directory and set permissions for the Kaggle authentication JSON**."
   ]
  },
  {
   "cell_type": "code",
   "execution_count": 6,
   "metadata": {},
   "outputs": [
    {
     "name": "stdout",
     "output_type": "stream",
     "text": [
      "chmod: cannot access 'kaggle.json': No such file or directory\n"
     ]
    }
   ],
   "source": [
    "os.environ['KAGGLE_CONFIG_DIR'] = os.getcwd()\n",
    "! chmod 600 kaggle.json"
   ]
  },
  {
   "cell_type": "markdown",
   "metadata": {},
   "source": [
    "Set the Kaggle Dataset and Download it."
   ]
  },
  {
   "cell_type": "code",
   "execution_count": 16,
   "metadata": {},
   "outputs": [
    {
     "name": "stdout",
     "output_type": "stream",
     "text": [
      "Dataset URL: https://www.kaggle.com/datasets/codeinstitute/cherry-leaves\n",
      "License(s): unknown\n",
      "Downloading cherry-leaves.zip to inputs/cherryleaves_dataset\n",
      " 95%|███████████████████████████████████▉  | 52.0M/55.0M [00:01<00:00, 45.9MB/s]\n",
      "100%|██████████████████████████████████████| 55.0M/55.0M [00:01<00:00, 32.4MB/s]\n"
     ]
    }
   ],
   "source": [
    "KaggleDatasetPath = \"codeinstitute/cherry-leaves\"\n",
    "DestinationFolder = \"inputs/cherryleaves_dataset\"   \n",
    "! kaggle datasets download -d {KaggleDatasetPath} -p {DestinationFolder}"
   ]
  },
  {
   "cell_type": "markdown",
   "metadata": {},
   "source": [
    "Unzip the downloaded file, and delete the zip file."
   ]
  },
  {
   "cell_type": "code",
   "execution_count": 17,
   "metadata": {},
   "outputs": [],
   "source": [
    "import zipfile\n",
    "with zipfile.ZipFile(DestinationFolder + '/cherry-leaves.zip', 'r') as zip_ref:\n",
    "    zip_ref.extractall(DestinationFolder)\n",
    "\n",
    "os.remove(DestinationFolder + '/cherry-leaves.zip')"
   ]
  },
  {
   "cell_type": "markdown",
   "metadata": {},
   "source": [
    "---"
   ]
  },
  {
   "cell_type": "markdown",
   "metadata": {},
   "source": [
    "# Data Preparation"
   ]
  },
  {
   "cell_type": "markdown",
   "metadata": {},
   "source": [
    "---"
   ]
  },
  {
   "cell_type": "markdown",
   "metadata": {},
   "source": [
    "## Data cleaning"
   ]
  },
  {
   "cell_type": "markdown",
   "metadata": {},
   "source": [
    "### Check and remove non-image files"
   ]
  },
  {
   "cell_type": "code",
   "execution_count": 18,
   "metadata": {},
   "outputs": [],
   "source": [
    "import os\n",
    "\n",
    "def remove_non_image_file(my_data_dir):\n",
    "    \"\"\"\n",
    "    Remove non-image files from the given dataset directory.\n",
    "    \"\"\"\n",
    "    image_extension = ('.png', '.jpg', '.jpeg')\n",
    "    folders = os.listdir(my_data_dir)\n",
    "    \n",
    "    for folder in folders:\n",
    "        folder_path = os.path.join(my_data_dir, folder)\n",
    "        \n",
    "        # Ensure it's a directory\n",
    "        if os.path.isdir(folder_path):\n",
    "            files = os.listdir(folder_path)\n",
    "            \n",
    "            i = []  # Track non-image files removed\n",
    "            j = []  # Track image files\n",
    "\n",
    "            for given_file in files:\n",
    "                file_location = os.path.join(folder_path, given_file)\n",
    "                \n",
    "                # Check if it's a file and not a directory\n",
    "                if os.path.isfile(file_location):\n",
    "                    if not given_file.lower().endswith(image_extension):\n",
    "                        os.remove(file_location)  # Remove non-image file\n",
    "                        i.append(1)\n",
    "                        print(f\"Removed non-image file: {file_location}\")\n",
    "                    else:\n",
    "                        j.append(1)\n",
    "                elif os.path.isdir(file_location):\n",
    "                    print(f\"Skipping subdirectory: {file_location}\")\n",
    "            \n",
    "            print(f\"Folder: {folder} - has image files: {len(j)}\")\n",
    "            print(f\"Folder: {folder} - has non-image files removed: {len(i)}\")\n"
   ]
  },
  {
   "cell_type": "code",
   "execution_count": 19,
   "metadata": {},
   "outputs": [
    {
     "name": "stdout",
     "output_type": "stream",
     "text": [
      "Folder: healthy - has image files: 2104\n",
      "Folder: healthy - has non-image files removed: 0\n",
      "Folder: powdery_mildew - has image files: 2104\n",
      "Folder: powdery_mildew - has non-image files removed: 0\n"
     ]
    }
   ],
   "source": [
    "remove_non_image_file(my_data_dir='inputs/cherryleaves_dataset/cherry-leaves')"
   ]
  },
  {
   "cell_type": "markdown",
   "metadata": {},
   "source": [
    "## Split train validation test set"
   ]
  },
  {
   "cell_type": "code",
   "execution_count": 20,
   "metadata": {},
   "outputs": [],
   "source": [
    "import os\n",
    "import shutil\n",
    "import random\n",
    "import joblib\n",
    "\n",
    "\n",
    "def split_train_validation_test_images(my_data_dir, train_set_ratio, validation_set_ratio, test_set_ratio):\n",
    "\n",
    "    if train_set_ratio + validation_set_ratio + test_set_ratio != 1.0:\n",
    "        print(\"train_set_ratio + validation_set_ratio + test_set_ratio should sum to 1.0\")\n",
    "        return\n",
    "\n",
    "    # gets classes labels\n",
    "    labels = os.listdir(my_data_dir)  # it should get only the folder name\n",
    "    if 'test' in labels:\n",
    "        pass\n",
    "    else:\n",
    "        # create train, test folders with classes labels sub-folder\n",
    "        for folder in ['train', 'validation', 'test']:\n",
    "            for label in labels:\n",
    "                os.makedirs(name=my_data_dir + '/' + folder + '/' + label)\n",
    "\n",
    "        for label in labels:\n",
    "\n",
    "            files = os.listdir(my_data_dir + '/' + label)\n",
    "            random.shuffle(files)\n",
    "\n",
    "            train_set_files_qty = int(len(files) * train_set_ratio)\n",
    "            validation_set_files_qty = int(len(files) * validation_set_ratio)\n",
    "\n",
    "            count = 1\n",
    "            for file_name in files:\n",
    "                if count <= train_set_files_qty:\n",
    "                    # move a given file to the train set\n",
    "                    shutil.move(my_data_dir + '/' + label + '/' + file_name,\n",
    "                                my_data_dir + '/train/' + label + '/' + file_name)\n",
    "\n",
    "                elif count <= (train_set_files_qty + validation_set_files_qty):\n",
    "                    # move a given file to the validation set\n",
    "                    shutil.move(my_data_dir + '/' + label + '/' + file_name,\n",
    "                                my_data_dir + '/validation/' + label + '/' + file_name)\n",
    "\n",
    "                else:\n",
    "                    # move given file to test set\n",
    "                    shutil.move(my_data_dir + '/' + label + '/' + file_name,\n",
    "                                my_data_dir + '/test/' + label + '/' + file_name)\n",
    "\n",
    "                count += 1\n",
    "\n",
    "            os.rmdir(my_data_dir + '/' + label)"
   ]
  },
  {
   "cell_type": "markdown",
   "metadata": {},
   "source": [
    " - The training set is divided into a 0.70 ratio of data.\n",
    " - The validation set is divided into a 0.10 ratio of data.\n",
    " - The test set is divided into a 0.20 ratio of data"
   ]
  },
  {
   "cell_type": "code",
   "execution_count": 21,
   "metadata": {},
   "outputs": [],
   "source": [
    "split_train_validation_test_images(my_data_dir=f\"inputs/cherryleaves_dataset/cherry-leaves\",\n",
    "                                   train_set_ratio=0.7,\n",
    "                                   validation_set_ratio=0.1,\n",
    "                                   test_set_ratio=0.2\n",
    "                                   )"
   ]
  },
  {
   "cell_type": "markdown",
   "metadata": {},
   "source": [
    "## Resize images"
   ]
  },
  {
   "cell_type": "markdown",
   "metadata": {},
   "source": [
    "Resizing images in datasets to 100px x 100px for further process."
   ]
  },
  {
   "cell_type": "code",
   "execution_count": 22,
   "metadata": {},
   "outputs": [
    {
     "name": "stdout",
     "output_type": "stream",
     "text": [
      "Processing train dataset...\n",
      "Processed 2944 files in inputs/cherryleaves_dataset/cherry-leaves/train\n",
      "All images resized to 50px x 50px\n",
      "Processing validation dataset...\n",
      "Processed 420 files in inputs/cherryleaves_dataset/cherry-leaves/validation\n",
      "All images resized to 50px x 50px\n",
      "Processing test dataset...\n",
      "Processed 844 files in inputs/cherryleaves_dataset/cherry-leaves/test\n",
      "All images resized to 50px x 50px\n"
     ]
    }
   ],
   "source": [
    "# Parts of code from Walkthrough project 1 - Code Institute \n",
    "# Parts of code from https://stackoverflow.com/questions/48121916/numpy-resize-rescale-image\n",
    "\n",
    "import cv2\n",
    "\n",
    "data_dir = 'inputs/cherryleaves_dataset/cherry-leaves'\n",
    "\n",
    "def image_resize(data_dir, new_size=(50, 50)):\n",
    "    total_files_processed = 0\n",
    "    for root, dirs, files in os.walk(data_dir):\n",
    "        for file in files:\n",
    "            if file.lower().endswith(('.png', '.jpg', '.jpeg')):\n",
    "                file_path = os.path.join(root, file)\n",
    "                \n",
    "                img = cv2.imread(file_path)\n",
    "                img_resized = cv2.resize(img, dsize=new_size, interpolation=cv2.INTER_CUBIC)\n",
    "                \n",
    "                cv2.imwrite(file_path, img_resized)\n",
    "                \n",
    "                total_files_processed += 1\n",
    "\n",
    "    print(f\"Processed {total_files_processed} files in {data_dir}\")\n",
    "    print(f\"All images resized to {new_size[0]}px x {new_size[1]}px\")\n",
    "\n",
    "# Resize images in the train, validation, and test directories\n",
    "print(\"Processing train dataset...\")\n",
    "image_resize(os.path.join(data_dir, 'train'))\n",
    "\n",
    "print(\"Processing validation dataset...\")\n",
    "image_resize(os.path.join(data_dir, 'validation'))\n",
    "\n",
    "print(\"Processing test dataset...\")\n",
    "image_resize(os.path.join(data_dir, 'test'))"
   ]
  }
 ],
 "metadata": {
  "kernelspec": {
   "display_name": "Python 3",
   "language": "python",
   "name": "python3"
  },
  "language_info": {
   "codemirror_mode": {
    "name": "ipython",
    "version": 3
   },
   "file_extension": ".py",
   "mimetype": "text/x-python",
   "name": "python",
   "nbconvert_exporter": "python",
   "pygments_lexer": "ipython3",
   "version": "3.8.18"
  }
 },
 "nbformat": 4,
 "nbformat_minor": 2
}
