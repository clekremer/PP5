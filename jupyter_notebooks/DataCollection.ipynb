{
 "cells": [
  {
   "cell_type": "markdown",
   "metadata": {},
   "source": [
    "## Data Collection"
   ]
  },
  {
   "cell_type": "markdown",
   "metadata": {},
   "source": [
    "- Import\n",
    "- Set working directory\n",
    "- Get data from Kaggle"
   ]
  },
  {
   "cell_type": "markdown",
   "metadata": {},
   "source": [
    "# Import packages"
   ]
  },
  {
   "cell_type": "code",
   "execution_count": 33,
   "metadata": {},
   "outputs": [
    {
     "name": "stdout",
     "output_type": "stream",
     "text": [
      "Requirement already satisfied: numpy in /workspace/.pip-modules/lib/python3.8/site-packages (from -r /workspace/PP5/requirements.txt (line 1)) (1.24.4)\n",
      "Requirement already satisfied: pandas in /workspace/.pip-modules/lib/python3.8/site-packages (from -r /workspace/PP5/requirements.txt (line 2)) (1.3.5)\n",
      "Requirement already satisfied: matplotlib in /workspace/.pip-modules/lib/python3.8/site-packages (from -r /workspace/PP5/requirements.txt (line 3)) (3.4.3)\n",
      "Requirement already satisfied: seaborn in /workspace/.pip-modules/lib/python3.8/site-packages (from -r /workspace/PP5/requirements.txt (line 4)) (0.11.2)\n",
      "Requirement already satisfied: plotly in /workspace/.pip-modules/lib/python3.8/site-packages (from -r /workspace/PP5/requirements.txt (line 5)) (5.3.1)\n",
      "Requirement already satisfied: streamlit in /workspace/.pip-modules/lib/python3.8/site-packages (from -r /workspace/PP5/requirements.txt (line 7)) (1.10.0)\n",
      "Requirement already satisfied: scikit-learn in /workspace/.pip-modules/lib/python3.8/site-packages (from -r /workspace/PP5/requirements.txt (line 9)) (1.0.2)\n",
      "Requirement already satisfied: tensorflow-cpu in /workspace/.pip-modules/lib/python3.8/site-packages (from -r /workspace/PP5/requirements.txt (line 10)) (2.10.1)\n",
      "Requirement already satisfied: keras in /workspace/.pip-modules/lib/python3.8/site-packages (from -r /workspace/PP5/requirements.txt (line 11)) (2.10.0)\n",
      "Requirement already satisfied: python-dateutil>=2.7.3 in /home/gitpod/.pyenv/versions/3.8.18/lib/python3.8/site-packages (from pandas->-r /workspace/PP5/requirements.txt (line 2)) (2.9.0.post0)\n",
      "Requirement already satisfied: pytz>=2017.3 in /home/gitpod/.pyenv/versions/3.8.18/lib/python3.8/site-packages (from pandas->-r /workspace/PP5/requirements.txt (line 2)) (2024.2)\n",
      "Requirement already satisfied: cycler>=0.10 in /workspace/.pip-modules/lib/python3.8/site-packages (from matplotlib->-r /workspace/PP5/requirements.txt (line 3)) (0.12.1)\n",
      "Requirement already satisfied: kiwisolver>=1.0.1 in /workspace/.pip-modules/lib/python3.8/site-packages (from matplotlib->-r /workspace/PP5/requirements.txt (line 3)) (1.4.7)\n",
      "Requirement already satisfied: pillow>=6.2.0 in /workspace/.pip-modules/lib/python3.8/site-packages (from matplotlib->-r /workspace/PP5/requirements.txt (line 3)) (10.4.0)\n",
      "Requirement already satisfied: pyparsing>=2.2.1 in /workspace/.pip-modules/lib/python3.8/site-packages (from matplotlib->-r /workspace/PP5/requirements.txt (line 3)) (3.1.4)\n",
      "Requirement already satisfied: scipy>=1.0 in /workspace/.pip-modules/lib/python3.8/site-packages (from seaborn->-r /workspace/PP5/requirements.txt (line 4)) (1.10.1)\n",
      "Requirement already satisfied: tenacity>=6.2.0 in /workspace/.pip-modules/lib/python3.8/site-packages (from plotly->-r /workspace/PP5/requirements.txt (line 5)) (9.0.0)\n",
      "Requirement already satisfied: six in /workspace/.pip-modules/lib/python3.8/site-packages (from plotly->-r /workspace/PP5/requirements.txt (line 5)) (1.15.0)\n",
      "Requirement already satisfied: altair>=3.2.0 in /workspace/.pip-modules/lib/python3.8/site-packages (from streamlit->-r /workspace/PP5/requirements.txt (line 7)) (4.1.0)\n",
      "Requirement already satisfied: attrs in /home/gitpod/.pyenv/versions/3.8.18/lib/python3.8/site-packages (from streamlit->-r /workspace/PP5/requirements.txt (line 7)) (24.2.0)\n",
      "Requirement already satisfied: blinker in /workspace/.pip-modules/lib/python3.8/site-packages (from streamlit->-r /workspace/PP5/requirements.txt (line 7)) (1.8.2)\n",
      "Requirement already satisfied: cachetools>=4.0 in /workspace/.pip-modules/lib/python3.8/site-packages (from streamlit->-r /workspace/PP5/requirements.txt (line 7)) (5.5.0)\n",
      "Requirement already satisfied: click>=7.0 in /workspace/.pip-modules/lib/python3.8/site-packages (from streamlit->-r /workspace/PP5/requirements.txt (line 7)) (8.1.8)\n",
      "Requirement already satisfied: importlib-metadata>=1.4 in /home/gitpod/.pyenv/versions/3.8.18/lib/python3.8/site-packages (from streamlit->-r /workspace/PP5/requirements.txt (line 7)) (8.5.0)\n",
      "Requirement already satisfied: packaging in /home/gitpod/.pyenv/versions/3.8.18/lib/python3.8/site-packages (from streamlit->-r /workspace/PP5/requirements.txt (line 7)) (24.1)\n",
      "Requirement already satisfied: protobuf<4,>=3.12 in /workspace/.pip-modules/lib/python3.8/site-packages (from streamlit->-r /workspace/PP5/requirements.txt (line 7)) (3.19.6)\n",
      "Requirement already satisfied: pyarrow in /workspace/.pip-modules/lib/python3.8/site-packages (from streamlit->-r /workspace/PP5/requirements.txt (line 7)) (17.0.0)\n",
      "Requirement already satisfied: pydeck>=0.1.dev5 in /workspace/.pip-modules/lib/python3.8/site-packages (from streamlit->-r /workspace/PP5/requirements.txt (line 7)) (0.9.1)\n",
      "Requirement already satisfied: pympler>=0.9 in /workspace/.pip-modules/lib/python3.8/site-packages (from streamlit->-r /workspace/PP5/requirements.txt (line 7)) (1.1)\n",
      "Requirement already satisfied: requests in /home/gitpod/.pyenv/versions/3.8.18/lib/python3.8/site-packages (from streamlit->-r /workspace/PP5/requirements.txt (line 7)) (2.32.3)\n",
      "Requirement already satisfied: toml in /workspace/.pip-modules/lib/python3.8/site-packages (from streamlit->-r /workspace/PP5/requirements.txt (line 7)) (0.10.2)\n",
      "Requirement already satisfied: tornado>=5.0 in /home/gitpod/.pyenv/versions/3.8.18/lib/python3.8/site-packages (from streamlit->-r /workspace/PP5/requirements.txt (line 7)) (6.4.1)\n",
      "Requirement already satisfied: tzlocal in /workspace/.pip-modules/lib/python3.8/site-packages (from streamlit->-r /workspace/PP5/requirements.txt (line 7)) (5.2)\n",
      "Requirement already satisfied: validators in /workspace/.pip-modules/lib/python3.8/site-packages (from streamlit->-r /workspace/PP5/requirements.txt (line 7)) (0.34.0)\n",
      "Requirement already satisfied: gitpython!=3.1.19 in /workspace/.pip-modules/lib/python3.8/site-packages (from streamlit->-r /workspace/PP5/requirements.txt (line 7)) (3.1.44)\n",
      "Requirement already satisfied: typing-extensions in /workspace/.pip-modules/lib/python3.8/site-packages (from streamlit->-r /workspace/PP5/requirements.txt (line 7)) (4.5.0)\n",
      "Requirement already satisfied: semver in /workspace/.pip-modules/lib/python3.8/site-packages (from streamlit->-r /workspace/PP5/requirements.txt (line 7)) (3.0.2)\n",
      "Requirement already satisfied: rich in /home/gitpod/.pyenv/versions/3.8.18/lib/python3.8/site-packages (from streamlit->-r /workspace/PP5/requirements.txt (line 7)) (13.9.4)\n",
      "Requirement already satisfied: watchdog in /workspace/.pip-modules/lib/python3.8/site-packages (from streamlit->-r /workspace/PP5/requirements.txt (line 7)) (4.0.2)\n",
      "Requirement already satisfied: joblib>=0.11 in /workspace/.pip-modules/lib/python3.8/site-packages (from scikit-learn->-r /workspace/PP5/requirements.txt (line 9)) (1.4.2)\n",
      "Requirement already satisfied: threadpoolctl>=2.0.0 in /workspace/.pip-modules/lib/python3.8/site-packages (from scikit-learn->-r /workspace/PP5/requirements.txt (line 9)) (3.5.0)\n",
      "Requirement already satisfied: absl-py>=1.0.0 in /workspace/.pip-modules/lib/python3.8/site-packages (from tensorflow-cpu->-r /workspace/PP5/requirements.txt (line 10)) (2.1.0)\n",
      "Requirement already satisfied: astunparse>=1.6.0 in /workspace/.pip-modules/lib/python3.8/site-packages (from tensorflow-cpu->-r /workspace/PP5/requirements.txt (line 10)) (1.6.3)\n",
      "Requirement already satisfied: flatbuffers>=2.0 in /workspace/.pip-modules/lib/python3.8/site-packages (from tensorflow-cpu->-r /workspace/PP5/requirements.txt (line 10)) (24.12.23)\n",
      "Requirement already satisfied: gast<=0.4.0,>=0.2.1 in /workspace/.pip-modules/lib/python3.8/site-packages (from tensorflow-cpu->-r /workspace/PP5/requirements.txt (line 10)) (0.4.0)\n",
      "Requirement already satisfied: google-pasta>=0.1.1 in /workspace/.pip-modules/lib/python3.8/site-packages (from tensorflow-cpu->-r /workspace/PP5/requirements.txt (line 10)) (0.2.0)\n",
      "Requirement already satisfied: grpcio<2.0,>=1.24.3 in /workspace/.pip-modules/lib/python3.8/site-packages (from tensorflow-cpu->-r /workspace/PP5/requirements.txt (line 10)) (1.69.0)\n",
      "Requirement already satisfied: h5py>=2.9.0 in /workspace/.pip-modules/lib/python3.8/site-packages (from tensorflow-cpu->-r /workspace/PP5/requirements.txt (line 10)) (3.1.0)\n",
      "Requirement already satisfied: keras-preprocessing>=1.1.1 in /workspace/.pip-modules/lib/python3.8/site-packages (from tensorflow-cpu->-r /workspace/PP5/requirements.txt (line 10)) (1.1.2)\n",
      "Requirement already satisfied: libclang>=13.0.0 in /workspace/.pip-modules/lib/python3.8/site-packages (from tensorflow-cpu->-r /workspace/PP5/requirements.txt (line 10)) (18.1.1)\n",
      "Requirement already satisfied: opt-einsum>=2.3.2 in /workspace/.pip-modules/lib/python3.8/site-packages (from tensorflow-cpu->-r /workspace/PP5/requirements.txt (line 10)) (3.3.0)\n",
      "Requirement already satisfied: setuptools in /home/gitpod/.pyenv/versions/3.8.18/lib/python3.8/site-packages (from tensorflow-cpu->-r /workspace/PP5/requirements.txt (line 10)) (75.3.0)\n",
      "Requirement already satisfied: tensorboard<2.11,>=2.10 in /workspace/.pip-modules/lib/python3.8/site-packages (from tensorflow-cpu->-r /workspace/PP5/requirements.txt (line 10)) (2.10.1)\n",
      "Requirement already satisfied: tensorflow-io-gcs-filesystem>=0.23.1 in /workspace/.pip-modules/lib/python3.8/site-packages (from tensorflow-cpu->-r /workspace/PP5/requirements.txt (line 10)) (0.34.0)\n",
      "Requirement already satisfied: tensorflow-estimator<2.11,>=2.10.0 in /workspace/.pip-modules/lib/python3.8/site-packages (from tensorflow-cpu->-r /workspace/PP5/requirements.txt (line 10)) (2.10.0)\n",
      "Requirement already satisfied: termcolor>=1.1.0 in /workspace/.pip-modules/lib/python3.8/site-packages (from tensorflow-cpu->-r /workspace/PP5/requirements.txt (line 10)) (1.1.0)\n",
      "Requirement already satisfied: wrapt>=1.11.0 in /workspace/.pip-modules/lib/python3.8/site-packages (from tensorflow-cpu->-r /workspace/PP5/requirements.txt (line 10)) (1.12.1)\n",
      "Requirement already satisfied: entrypoints in /workspace/.pip-modules/lib/python3.8/site-packages (from altair>=3.2.0->streamlit->-r /workspace/PP5/requirements.txt (line 7)) (0.4)\n",
      "Requirement already satisfied: jinja2 in /home/gitpod/.pyenv/versions/3.8.18/lib/python3.8/site-packages (from altair>=3.2.0->streamlit->-r /workspace/PP5/requirements.txt (line 7)) (3.1.4)\n",
      "Requirement already satisfied: jsonschema in /home/gitpod/.pyenv/versions/3.8.18/lib/python3.8/site-packages (from altair>=3.2.0->streamlit->-r /workspace/PP5/requirements.txt (line 7)) (4.23.0)\n",
      "Requirement already satisfied: toolz in /workspace/.pip-modules/lib/python3.8/site-packages (from altair>=3.2.0->streamlit->-r /workspace/PP5/requirements.txt (line 7)) (1.0.0)\n",
      "Requirement already satisfied: wheel<1.0,>=0.23.0 in /home/gitpod/.pyenv/versions/3.8.18/lib/python3.8/site-packages (from astunparse>=1.6.0->tensorflow-cpu->-r /workspace/PP5/requirements.txt (line 10)) (0.44.0)\n",
      "Requirement already satisfied: gitdb<5,>=4.0.1 in /workspace/.pip-modules/lib/python3.8/site-packages (from gitpython!=3.1.19->streamlit->-r /workspace/PP5/requirements.txt (line 7)) (4.0.12)\n",
      "Requirement already satisfied: zipp>=3.20 in /home/gitpod/.pyenv/versions/3.8.18/lib/python3.8/site-packages (from importlib-metadata>=1.4->streamlit->-r /workspace/PP5/requirements.txt (line 7)) (3.20.2)\n",
      "Requirement already satisfied: google-auth<3,>=1.6.3 in /workspace/.pip-modules/lib/python3.8/site-packages (from tensorboard<2.11,>=2.10->tensorflow-cpu->-r /workspace/PP5/requirements.txt (line 10)) (2.37.0)\n",
      "Requirement already satisfied: google-auth-oauthlib<0.5,>=0.4.1 in /workspace/.pip-modules/lib/python3.8/site-packages (from tensorboard<2.11,>=2.10->tensorflow-cpu->-r /workspace/PP5/requirements.txt (line 10)) (0.4.6)\n",
      "Requirement already satisfied: markdown>=2.6.8 in /workspace/.pip-modules/lib/python3.8/site-packages (from tensorboard<2.11,>=2.10->tensorflow-cpu->-r /workspace/PP5/requirements.txt (line 10)) (3.7)\n",
      "Requirement already satisfied: tensorboard-data-server<0.7.0,>=0.6.0 in /workspace/.pip-modules/lib/python3.8/site-packages (from tensorboard<2.11,>=2.10->tensorflow-cpu->-r /workspace/PP5/requirements.txt (line 10)) (0.6.1)\n",
      "Requirement already satisfied: tensorboard-plugin-wit>=1.6.0 in /workspace/.pip-modules/lib/python3.8/site-packages (from tensorboard<2.11,>=2.10->tensorflow-cpu->-r /workspace/PP5/requirements.txt (line 10)) (1.8.1)\n",
      "Requirement already satisfied: werkzeug>=1.0.1 in /workspace/.pip-modules/lib/python3.8/site-packages (from tensorboard<2.11,>=2.10->tensorflow-cpu->-r /workspace/PP5/requirements.txt (line 10)) (3.0.6)\n",
      "Requirement already satisfied: charset-normalizer<4,>=2 in /home/gitpod/.pyenv/versions/3.8.18/lib/python3.8/site-packages (from requests->streamlit->-r /workspace/PP5/requirements.txt (line 7)) (3.4.0)\n",
      "Requirement already satisfied: idna<4,>=2.5 in /home/gitpod/.pyenv/versions/3.8.18/lib/python3.8/site-packages (from requests->streamlit->-r /workspace/PP5/requirements.txt (line 7)) (3.10)\n",
      "Requirement already satisfied: urllib3<3,>=1.21.1 in /home/gitpod/.pyenv/versions/3.8.18/lib/python3.8/site-packages (from requests->streamlit->-r /workspace/PP5/requirements.txt (line 7)) (2.2.3)\n",
      "Requirement already satisfied: certifi>=2017.4.17 in /home/gitpod/.pyenv/versions/3.8.18/lib/python3.8/site-packages (from requests->streamlit->-r /workspace/PP5/requirements.txt (line 7)) (2024.8.30)\n",
      "Requirement already satisfied: markdown-it-py>=2.2.0 in /home/gitpod/.pyenv/versions/3.8.18/lib/python3.8/site-packages (from rich->streamlit->-r /workspace/PP5/requirements.txt (line 7)) (3.0.0)\n",
      "Requirement already satisfied: pygments<3.0.0,>=2.13.0 in /home/gitpod/.pyenv/versions/3.8.18/lib/python3.8/site-packages (from rich->streamlit->-r /workspace/PP5/requirements.txt (line 7)) (2.18.0)\n",
      "Requirement already satisfied: backports.zoneinfo in /workspace/.pip-modules/lib/python3.8/site-packages (from tzlocal->streamlit->-r /workspace/PP5/requirements.txt (line 7)) (0.2.1)\n",
      "Requirement already satisfied: smmap<6,>=3.0.1 in /workspace/.pip-modules/lib/python3.8/site-packages (from gitdb<5,>=4.0.1->gitpython!=3.1.19->streamlit->-r /workspace/PP5/requirements.txt (line 7)) (5.0.2)\n",
      "Requirement already satisfied: pyasn1-modules>=0.2.1 in /workspace/.pip-modules/lib/python3.8/site-packages (from google-auth<3,>=1.6.3->tensorboard<2.11,>=2.10->tensorflow-cpu->-r /workspace/PP5/requirements.txt (line 10)) (0.4.1)\n",
      "Requirement already satisfied: rsa<5,>=3.1.4 in /workspace/.pip-modules/lib/python3.8/site-packages (from google-auth<3,>=1.6.3->tensorboard<2.11,>=2.10->tensorflow-cpu->-r /workspace/PP5/requirements.txt (line 10)) (4.9)\n",
      "Requirement already satisfied: requests-oauthlib>=0.7.0 in /workspace/.pip-modules/lib/python3.8/site-packages (from google-auth-oauthlib<0.5,>=0.4.1->tensorboard<2.11,>=2.10->tensorflow-cpu->-r /workspace/PP5/requirements.txt (line 10)) (2.0.0)\n",
      "Requirement already satisfied: MarkupSafe>=2.0 in /home/gitpod/.pyenv/versions/3.8.18/lib/python3.8/site-packages (from jinja2->altair>=3.2.0->streamlit->-r /workspace/PP5/requirements.txt (line 7)) (2.1.5)\n",
      "Requirement already satisfied: mdurl~=0.1 in /home/gitpod/.pyenv/versions/3.8.18/lib/python3.8/site-packages (from markdown-it-py>=2.2.0->rich->streamlit->-r /workspace/PP5/requirements.txt (line 7)) (0.1.2)\n",
      "Requirement already satisfied: importlib-resources>=1.4.0 in /home/gitpod/.pyenv/versions/3.8.18/lib/python3.8/site-packages (from jsonschema->altair>=3.2.0->streamlit->-r /workspace/PP5/requirements.txt (line 7)) (6.4.5)\n",
      "Requirement already satisfied: jsonschema-specifications>=2023.03.6 in /home/gitpod/.pyenv/versions/3.8.18/lib/python3.8/site-packages (from jsonschema->altair>=3.2.0->streamlit->-r /workspace/PP5/requirements.txt (line 7)) (2023.12.1)\n",
      "Requirement already satisfied: pkgutil-resolve-name>=1.3.10 in /home/gitpod/.pyenv/versions/3.8.18/lib/python3.8/site-packages (from jsonschema->altair>=3.2.0->streamlit->-r /workspace/PP5/requirements.txt (line 7)) (1.3.10)\n",
      "Requirement already satisfied: referencing>=0.28.4 in /home/gitpod/.pyenv/versions/3.8.18/lib/python3.8/site-packages (from jsonschema->altair>=3.2.0->streamlit->-r /workspace/PP5/requirements.txt (line 7)) (0.35.1)\n",
      "Requirement already satisfied: rpds-py>=0.7.1 in /home/gitpod/.pyenv/versions/3.8.18/lib/python3.8/site-packages (from jsonschema->altair>=3.2.0->streamlit->-r /workspace/PP5/requirements.txt (line 7)) (0.20.1)\n",
      "Requirement already satisfied: pyasn1<0.7.0,>=0.4.6 in /workspace/.pip-modules/lib/python3.8/site-packages (from pyasn1-modules>=0.2.1->google-auth<3,>=1.6.3->tensorboard<2.11,>=2.10->tensorflow-cpu->-r /workspace/PP5/requirements.txt (line 10)) (0.6.1)\n",
      "Requirement already satisfied: oauthlib>=3.0.0 in /workspace/.pip-modules/lib/python3.8/site-packages (from requests-oauthlib>=0.7.0->google-auth-oauthlib<0.5,>=0.4.1->tensorboard<2.11,>=2.10->tensorflow-cpu->-r /workspace/PP5/requirements.txt (line 10)) (3.2.2)\n"
     ]
    }
   ],
   "source": [
    "! pip install -r /workspace/PP5/requirements.txt"
   ]
  },
  {
   "cell_type": "code",
   "execution_count": 34,
   "metadata": {},
   "outputs": [],
   "source": [
    "import numpy\n",
    "import os"
   ]
  },
  {
   "cell_type": "markdown",
   "metadata": {},
   "source": [
    "# Change working directory"
   ]
  },
  {
   "cell_type": "code",
   "execution_count": 35,
   "metadata": {},
   "outputs": [
    {
     "data": {
      "text/plain": [
       "'/workspace/PP5'"
      ]
     },
     "execution_count": 35,
     "metadata": {},
     "output_type": "execute_result"
    }
   ],
   "source": [
    "current_dir = os.getcwd()\n",
    "current_dir"
   ]
  },
  {
   "cell_type": "code",
   "execution_count": 36,
   "metadata": {},
   "outputs": [
    {
     "name": "stdout",
     "output_type": "stream",
     "text": [
      "You set a new current directory\n"
     ]
    }
   ],
   "source": [
    "os.chdir('/workspace/PP5')\n",
    "print(\"You set a new current directory\")"
   ]
  },
  {
   "cell_type": "code",
   "execution_count": 37,
   "metadata": {},
   "outputs": [
    {
     "data": {
      "text/plain": [
       "'/workspace/PP5'"
      ]
     },
     "execution_count": 37,
     "metadata": {},
     "output_type": "execute_result"
    }
   ],
   "source": [
    "current_dir = os.getcwd()\n",
    "current_dir"
   ]
  },
  {
   "cell_type": "markdown",
   "metadata": {},
   "source": [
    "# Install Kaggle"
   ]
  },
  {
   "cell_type": "code",
   "execution_count": 38,
   "metadata": {},
   "outputs": [
    {
     "name": "stdout",
     "output_type": "stream",
     "text": [
      "Requirement already satisfied: kaggle in /workspace/.pip-modules/lib/python3.8/site-packages (1.6.17)\n",
      "Requirement already satisfied: six>=1.10 in /workspace/.pip-modules/lib/python3.8/site-packages (from kaggle) (1.15.0)\n",
      "Requirement already satisfied: certifi>=2023.7.22 in /home/gitpod/.pyenv/versions/3.8.18/lib/python3.8/site-packages (from kaggle) (2024.8.30)\n",
      "Requirement already satisfied: python-dateutil in /home/gitpod/.pyenv/versions/3.8.18/lib/python3.8/site-packages (from kaggle) (2.9.0.post0)\n",
      "Requirement already satisfied: requests in /home/gitpod/.pyenv/versions/3.8.18/lib/python3.8/site-packages (from kaggle) (2.32.3)\n",
      "Requirement already satisfied: tqdm in /workspace/.pip-modules/lib/python3.8/site-packages (from kaggle) (4.67.1)\n",
      "Requirement already satisfied: python-slugify in /workspace/.pip-modules/lib/python3.8/site-packages (from kaggle) (8.0.4)\n",
      "Requirement already satisfied: urllib3 in /home/gitpod/.pyenv/versions/3.8.18/lib/python3.8/site-packages (from kaggle) (2.2.3)\n",
      "Requirement already satisfied: bleach in /home/gitpod/.pyenv/versions/3.8.18/lib/python3.8/site-packages (from kaggle) (6.1.0)\n",
      "Requirement already satisfied: webencodings in /home/gitpod/.pyenv/versions/3.8.18/lib/python3.8/site-packages (from bleach->kaggle) (0.5.1)\n",
      "Requirement already satisfied: text-unidecode>=1.3 in /workspace/.pip-modules/lib/python3.8/site-packages (from python-slugify->kaggle) (1.3)\n",
      "Requirement already satisfied: charset-normalizer<4,>=2 in /home/gitpod/.pyenv/versions/3.8.18/lib/python3.8/site-packages (from requests->kaggle) (3.4.0)\n",
      "Requirement already satisfied: idna<4,>=2.5 in /home/gitpod/.pyenv/versions/3.8.18/lib/python3.8/site-packages (from requests->kaggle) (3.10)\n",
      "Note: you may need to restart the kernel to use updated packages.\n"
     ]
    }
   ],
   "source": [
    "pip install kaggle"
   ]
  },
  {
   "cell_type": "markdown",
   "metadata": {},
   "source": [
    "Run the cell below **to change the Kaggle configuration directory to the current working directory and set permissions for the Kaggle authentication JSON**."
   ]
  },
  {
   "cell_type": "code",
   "execution_count": 39,
   "metadata": {},
   "outputs": [
    {
     "name": "stdout",
     "output_type": "stream",
     "text": [
      "chmod: cannot access 'kaggle.json': No such file or directory\n"
     ]
    }
   ],
   "source": [
    "os.environ['KAGGLE_CONFIG_DIR'] = os.getcwd()\n",
    "! chmod 600 kaggle.json"
   ]
  },
  {
   "cell_type": "markdown",
   "metadata": {},
   "source": [
    "Set the Kaggle Dataset and Download it."
   ]
  },
  {
   "cell_type": "code",
   "execution_count": 40,
   "metadata": {},
   "outputs": [
    {
     "name": "stdout",
     "output_type": "stream",
     "text": [
      "Dataset URL: https://www.kaggle.com/datasets/codeinstitute/cherry-leaves\n",
      "License(s): unknown\n",
      "Downloading cherry-leaves.zip to inputs/cherryleaves_dataset\n",
      " 96%|████████████████████████████████████▌ | 53.0M/55.0M [00:02<00:00, 34.8MB/s]\n",
      "100%|██████████████████████████████████████| 55.0M/55.0M [00:02<00:00, 26.7MB/s]\n"
     ]
    }
   ],
   "source": [
    "KaggleDatasetPath = \"codeinstitute/cherry-leaves\"\n",
    "DestinationFolder = \"inputs/cherryleaves_dataset\"   \n",
    "! kaggle datasets download -d {KaggleDatasetPath} -p {DestinationFolder}"
   ]
  },
  {
   "cell_type": "markdown",
   "metadata": {},
   "source": [
    "Unzip the downloaded file, and delete the zip file."
   ]
  },
  {
   "cell_type": "code",
   "execution_count": 41,
   "metadata": {},
   "outputs": [],
   "source": [
    "import zipfile\n",
    "with zipfile.ZipFile(DestinationFolder + '/cherry-leaves.zip', 'r') as zip_ref:\n",
    "    zip_ref.extractall(DestinationFolder)\n",
    "\n",
    "os.remove(DestinationFolder + '/cherry-leaves.zip')"
   ]
  },
  {
   "cell_type": "markdown",
   "metadata": {},
   "source": [
    "---"
   ]
  },
  {
   "cell_type": "markdown",
   "metadata": {},
   "source": [
    "# Data Preparation"
   ]
  },
  {
   "cell_type": "markdown",
   "metadata": {},
   "source": [
    "---"
   ]
  },
  {
   "cell_type": "markdown",
   "metadata": {},
   "source": [
    "## Data cleaning"
   ]
  },
  {
   "cell_type": "markdown",
   "metadata": {},
   "source": [
    "### Check and remove non-image files"
   ]
  },
  {
   "cell_type": "code",
   "execution_count": 42,
   "metadata": {},
   "outputs": [],
   "source": [
    "def remove_non_image_file(my_data_dir):\n",
    "    image_extension = ('.png', '.jpg', '.jpeg')\n",
    "    folders = os.listdir(my_data_dir)\n",
    "    for folder in folders:\n",
    "        files = os.listdir(my_data_dir + '/' + folder)\n",
    "        # print(files)\n",
    "        i = []\n",
    "        j = []\n",
    "        for given_file in files:\n",
    "            if not given_file.lower().endswith(image_extension):\n",
    "                file_location = my_data_dir + '/' + folder + '/' + given_file\n",
    "                os.remove(file_location)  # remove non image file\n",
    "                i.append(1)\n",
    "            else:\n",
    "                j.append(1)\n",
    "                pass\n",
    "        print(f\"Folder: {folder} - has image file\", len(j))\n",
    "        print(f\"Folder: {folder} - has non-image file\", len(i))"
   ]
  },
  {
   "cell_type": "code",
   "execution_count": 43,
   "metadata": {},
   "outputs": [
    {
     "name": "stdout",
     "output_type": "stream",
     "text": [
      "Folder: healthy - has image file 2104\n",
      "Folder: healthy - has non-image file 0\n",
      "Folder: powdery_mildew - has image file 2104\n",
      "Folder: powdery_mildew - has non-image file 0\n"
     ]
    }
   ],
   "source": [
    "remove_non_image_file(my_data_dir='inputs/cherryleaves_dataset/cherry-leaves')"
   ]
  },
  {
   "cell_type": "markdown",
   "metadata": {},
   "source": [
    "## Split train validation test set"
   ]
  },
  {
   "cell_type": "code",
   "execution_count": 44,
   "metadata": {},
   "outputs": [],
   "source": [
    "import os\n",
    "import shutil\n",
    "import random\n",
    "import joblib\n",
    "\n",
    "\n",
    "def split_train_validation_test_images(my_data_dir, train_set_ratio, validation_set_ratio, test_set_ratio):\n",
    "\n",
    "    if train_set_ratio + validation_set_ratio + test_set_ratio != 1.0:\n",
    "        print(\"train_set_ratio + validation_set_ratio + test_set_ratio should sum to 1.0\")\n",
    "        return\n",
    "\n",
    "    # gets classes labels\n",
    "    labels = os.listdir(my_data_dir)  # it should get only the folder name\n",
    "    if 'test' in labels:\n",
    "        pass\n",
    "    else:\n",
    "        # create train, test folders with classes labels sub-folder\n",
    "        for folder in ['train', 'validation', 'test']:\n",
    "            for label in labels:\n",
    "                os.makedirs(name=my_data_dir + '/' + folder + '/' + label)\n",
    "\n",
    "        for label in labels:\n",
    "\n",
    "            files = os.listdir(my_data_dir + '/' + label)\n",
    "            random.shuffle(files)\n",
    "\n",
    "            train_set_files_qty = int(len(files) * train_set_ratio)\n",
    "            validation_set_files_qty = int(len(files) * validation_set_ratio)\n",
    "\n",
    "            count = 1\n",
    "            for file_name in files:\n",
    "                if count <= train_set_files_qty:\n",
    "                    # move a given file to the train set\n",
    "                    shutil.move(my_data_dir + '/' + label + '/' + file_name,\n",
    "                                my_data_dir + '/train/' + label + '/' + file_name)\n",
    "\n",
    "                elif count <= (train_set_files_qty + validation_set_files_qty):\n",
    "                    # move a given file to the validation set\n",
    "                    shutil.move(my_data_dir + '/' + label + '/' + file_name,\n",
    "                                my_data_dir + '/validation/' + label + '/' + file_name)\n",
    "\n",
    "                else:\n",
    "                    # move given file to test set\n",
    "                    shutil.move(my_data_dir + '/' + label + '/' + file_name,\n",
    "                                my_data_dir + '/test/' + label + '/' + file_name)\n",
    "\n",
    "                count += 1\n",
    "\n",
    "            os.rmdir(my_data_dir + '/' + label)"
   ]
  },
  {
   "cell_type": "markdown",
   "metadata": {},
   "source": [
    " - The training set is divided into a 0.70 ratio of data.\n",
    " - The validation set is divided into a 0.10 ratio of data.\n",
    " - The test set is divided into a 0.20 ratio of data"
   ]
  },
  {
   "cell_type": "code",
   "execution_count": 45,
   "metadata": {},
   "outputs": [],
   "source": [
    "split_train_validation_test_images(my_data_dir=f\"inputs/cherryleaves_dataset/cherry-leaves\",\n",
    "                                   train_set_ratio=0.7,\n",
    "                                   validation_set_ratio=0.1,\n",
    "                                   test_set_ratio=0.2\n",
    "                                   )"
   ]
  },
  {
   "cell_type": "markdown",
   "metadata": {},
   "source": [
    "# Resize images"
   ]
  },
  {
   "cell_type": "markdown",
   "metadata": {},
   "source": [
    "Resizing images in datasets to 100px x 100px for further process."
   ]
  },
  {
   "cell_type": "code",
   "execution_count": 46,
   "metadata": {},
   "outputs": [
    {
     "name": "stdout",
     "output_type": "stream",
     "text": [
      "Processing train dataset...\n",
      "Processed 2944 files in inputs/cherryleaves_dataset/cherry-leaves/train\n",
      "All images resized to 30px x 30px\n",
      "Processing validation dataset...\n",
      "Processed 420 files in inputs/cherryleaves_dataset/cherry-leaves/validation\n",
      "All images resized to 30px x 30px\n",
      "Processing test dataset...\n",
      "Processed 844 files in inputs/cherryleaves_dataset/cherry-leaves/test\n",
      "All images resized to 30px x 30px\n"
     ]
    }
   ],
   "source": [
    "# Parts of code from Walkthrough project 1 - Code Institute \n",
    "# Parts of code from https://stackoverflow.com/questions/48121916/numpy-resize-rescale-image\n",
    "\n",
    "import cv2\n",
    "\n",
    "data_dir = 'inputs/cherryleaves_dataset/cherry-leaves'\n",
    "\n",
    "def image_resize(data_dir, new_size=(30, 30)):\n",
    "    total_files_processed = 0\n",
    "    for root, dirs, files in os.walk(data_dir):\n",
    "        for file in files:\n",
    "            if file.lower().endswith(('.png', '.jpg', '.jpeg')):\n",
    "                file_path = os.path.join(root, file)\n",
    "                \n",
    "                img = cv2.imread(file_path)\n",
    "                img_resized = cv2.resize(img, dsize=new_size, interpolation=cv2.INTER_CUBIC)\n",
    "                \n",
    "                cv2.imwrite(file_path, img_resized)\n",
    "                \n",
    "                total_files_processed += 1\n",
    "\n",
    "    print(f\"Processed {total_files_processed} files in {data_dir}\")\n",
    "    print(f\"All images resized to {new_size[0]}px x {new_size[1]}px\")\n",
    "\n",
    "# Resize images in the train, validation, and test directories\n",
    "print(\"Processing train dataset...\")\n",
    "image_resize(os.path.join(data_dir, 'train'))\n",
    "\n",
    "print(\"Processing validation dataset...\")\n",
    "image_resize(os.path.join(data_dir, 'validation'))\n",
    "\n",
    "print(\"Processing test dataset...\")\n",
    "image_resize(os.path.join(data_dir, 'test'))"
   ]
  }
 ],
 "metadata": {
  "kernelspec": {
   "display_name": "Python 3",
   "language": "python",
   "name": "python3"
  },
  "language_info": {
   "codemirror_mode": {
    "name": "ipython",
    "version": 3
   },
   "file_extension": ".py",
   "mimetype": "text/x-python",
   "name": "python",
   "nbconvert_exporter": "python",
   "pygments_lexer": "ipython3",
   "version": "3.8.18"
  }
 },
 "nbformat": 4,
 "nbformat_minor": 2
}
